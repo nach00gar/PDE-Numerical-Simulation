{
 "cells": [
  {
   "attachments": {},
   "cell_type": "markdown",
   "metadata": {
    "id": "WgaVuyPlOZam"
   },
   "source": [
    "# Análisis Numérico de EDPs : Ecuación de Parabólicas con Diferencias Finitas\n",
    "\n",
    "## Ignacio Garach Vélez"
   ]
  },
  {
   "attachments": {},
   "cell_type": "markdown",
   "metadata": {
    "id": "ZiZusExYSOOq"
   },
   "source": [
    "## Ecuación de Calor : Euler explícito\n",
    "\n",
    "$$ \\partial_t u = \\partial_x^2 u  $$\n",
    "$$ u(0,x) = u_0(x)  $$\n",
    "$$ u(t,0) = u(t,1) = 0 $$\n",
    "\n",
    "Discretizaremos la segunda derivada del mismo modo que habíamos usado hasta ahora y discretizamos en tiempo de forma explícita:\n",
    "\n",
    "$$ u_{j+1} = u_j + kLu_j$$ donde L es la matriz que usamos en el primer problema con -2 en la diagonal principal y 1 en las adyacentes. Simplemente estamos aproximando en tiempo con \n",
    "$$∂_tu_{j+1} = \\frac{u_{j+1}-u_j}{k}$$ .\n",
    "\n",
    "También definimos una función para animar los resultados de los cálculos a lo largo del tiempo."
   ]
  },
  {
   "cell_type": "code",
   "execution_count": 1,
   "metadata": {
    "id": "duwtvqKnbfaN"
   },
   "outputs": [],
   "source": [
    "import numpy as np\n",
    "import scipy as sp\n",
    "from scipy.sparse import diags\n",
    "import matplotlib.pyplot as plt\n",
    "import matplotlib.animation as animation\n",
    "import time"
   ]
  },
  {
   "cell_type": "code",
   "execution_count": 2,
   "metadata": {
    "id": "e9iV9LZ1SWNX"
   },
   "outputs": [],
   "source": [
    "def EulerExplicit(f, Np, Mp, t0=0.0, tn=1.0, x0=-1.0, xn=1.0):\n",
    "  N=Np\n",
    "  M=Mp\n",
    "\n",
    "  a=t0\n",
    "  L=tn\n",
    "  k = (L-a)/N\n",
    "\n",
    "  h = (xn - x0)/M\n",
    "\n",
    "  nodost = [a+k*i for i in np.arange(N+1)]\n",
    "  nodosx = [x0+h*i for i in np.arange(M+1)]\n",
    "\n",
    "  inicial = np.array([f(x) for x in nodosx])\n",
    "\n",
    "  diagonals = [-2*np.ones(M+1), np.ones(M), np.ones(M)]\n",
    "  mat = (k/h**2)*diags(diagonals, (0, 1, -1)).toarray() + np.identity(M+1)\n",
    "\n",
    "  mat[0, 0]=1*(k/h**2)+1\n",
    "  mat[0, 1]=0\n",
    "  mat[M, M-1]=0\n",
    "  mat[M, M]=1*(k/h**2)+1\n",
    "\n",
    "  result=[inicial]\n",
    "  for i in np.arange(1, N+1):\n",
    "    result.append(mat@result[i-1])\n",
    "\n",
    "\n",
    "  return nodost, nodosx, result\n",
    "\n",
    "from matplotlib import rc\n",
    "rc('animation', html='jshtml')\n",
    "\n",
    "def plotAnimation(time, space, solution):\n",
    "  fig, ax = plt.subplots()\n",
    "  ax.set_xlabel('x')\n",
    "  ax.set_ylabel('tª')\n",
    "  plotLine, = ax.plot(space, np.zeros(len(space))*np.NaN, 'r-')\n",
    "  plotTitle = ax.set_title(\"t=0\")\n",
    "  ax.set_xlim(np.min(space)-0.1, np.max(space)+0.1)\n",
    "  ax.set_ylim(np.min(solution[0]), np.max(solution[0])+0.1)\n",
    "\n",
    "  def animate(t):\n",
    "      pp = solution[t]\n",
    "      plotLine.set_ydata(pp)\n",
    "      plotTitle.set_text(f\"t = {time[t]:.1f}\")\n",
    "      return [plotLine,plotTitle]\n",
    "\n",
    "\n",
    "  anim = animation.FuncAnimation(fig, func=animate, frames=np.arange(0, len(solution), 1), blit=True)\n",
    "  return anim\n",
    "  "
   ]
  },
  {
   "attachments": {},
   "cell_type": "markdown",
   "metadata": {
    "id": "pLG89xqURBFn"
   },
   "source": [
    "Probaremos la implementación con condición inicial la parábola $u_0(x)=-x^2+1$ en el intervalo $[-1, 1]$, observaremos que como hemos estudiado este método numérico con esquema Euler Explícito es inestable para una gran parte del espacio paramétrico (relaciones entre h y k), en la primera elección de nodos es inestable, en la segunda, estamos dentro de la pequeña región de estabilidad."
   ]
  },
  {
   "cell_type": "code",
   "execution_count": 6,
   "metadata": {
    "id": "RsGcNkmqOUPd"
   },
   "outputs": [],
   "source": [
    "def parabola(x):\n",
    "  return -x**2+1\n",
    "\n",
    "tgridi, xgridi, resultadoi = EulerExplicit(parabola, 20, 10) \n",
    "tgrid, xgrid, resultado = EulerExplicit(parabola, 200, 10) "
   ]
  },
  {
   "attachments": {},
   "cell_type": "markdown",
   "metadata": {
    "id": "mr_q0awaSbvV"
   },
   "source": [
    "Mostramos este ejemplo inestable:"
   ]
  },
  {
   "cell_type": "code",
   "execution_count": null,
   "metadata": {
    "colab": {
     "base_uri": "https://localhost:8080/",
     "height": 1000
    },
    "id": "8ID3JU8N1TkH",
    "outputId": "8f941e36-08ae-4610-cdf9-4011d6bf83fb"
   },
   "outputs": [],
   "source": [
    "plotAnimation(tgridi, xgridi, resultadoi)"
   ]
  },
  {
   "attachments": {},
   "cell_type": "markdown",
   "metadata": {
    "id": "7cpaUoQFSg8d"
   },
   "source": [
    "Claramente el anterior no calcula la solución, en la siguiente animación vemos que para una elección de partición dentro de la región de estabilidad sí funciona."
   ]
  },
  {
   "cell_type": "code",
   "execution_count": null,
   "metadata": {
    "colab": {
     "base_uri": "https://localhost:8080/",
     "height": 1000
    },
    "id": "d-WU4yVK155Q",
    "outputId": "1484e1c7-fc39-42b2-b157-34fd42427266"
   },
   "outputs": [],
   "source": [
    "plotAnimation(tgrid, xgrid, resultado)"
   ]
  },
  {
   "attachments": {},
   "cell_type": "markdown",
   "metadata": {
    "id": "zNpXDuhpS48k"
   },
   "source": [
    "Probamos ahora con otra condición inicial $f(x)=sen(2\\pi x)$ en $[0, 1]$ que el comportamiento es el mismo, en este caso el comportamiento inestable es interesante por su relación con el estudio de estabilidad que hicimos:"
   ]
  },
  {
   "cell_type": "code",
   "execution_count": 12,
   "metadata": {
    "id": "ezcnkV3g2bu5"
   },
   "outputs": [],
   "source": [
    "def sin2pix(x):\n",
    "  return np.sin(2*np.pi*x)\n",
    "\n",
    "tgridi, xgridi, resultadoi = EulerExplicit(sin2pix, 20, 10, x0=0) \n",
    "tgrid, xgrid, resultado = EulerExplicit(sin2pix, 300, 10, x0=0) "
   ]
  },
  {
   "attachments": {},
   "cell_type": "markdown",
   "metadata": {
    "id": "896GbiIRTjUk"
   },
   "source": [
    "En el caso inestable, al principio si parece que la curva se va achicando pero tiene un cambio de signo en cada iteración, pero llega un punto en el que la inestabilidad pasa a ser de ampliación de magnitud(del estilo a la de la parábola). Esto puede ocurrir porque al principio de la simulación, el valor propio dominante que provoca la inestabilidad provoque el cambio de signo, pero en cierto momento, pase a ser otro valor y su función asociada la que hagan que la inestabilidad cambie de tipo."
   ]
  },
  {
   "cell_type": "code",
   "execution_count": null,
   "metadata": {
    "colab": {
     "base_uri": "https://localhost:8080/",
     "height": 1000
    },
    "id": "KLhq0ocR22C-",
    "outputId": "1a3a2773-73bb-48e7-d2ab-6667b9be6cbe"
   },
   "outputs": [],
   "source": [
    "plotAnimation(tgridi, xgridi, resultadoi)"
   ]
  },
  {
   "attachments": {},
   "cell_type": "markdown",
   "metadata": {
    "id": "KBGr1IWIUagG"
   },
   "source": [
    "En la región estable no hay problema, no lo mostramos para que no se dispare el tamaño del documento por las animaciones."
   ]
  },
  {
   "attachments": {},
   "cell_type": "markdown",
   "metadata": {
    "id": "U0_pjnFv4LSJ"
   },
   "source": [
    "## Estabilidad en toda partición: Euler Implícito"
   ]
  },
  {
   "attachments": {},
   "cell_type": "markdown",
   "metadata": {
    "id": "6zbIGTmGVGAU"
   },
   "source": [
    "Hemos visto que el método anterior tiene problemas de inestabilidad, la solución es el método de Euler implícito, que con la misma aproximación de las derivadas, pero desplazando un instante en tiempo de modo que no basta con producto de matriz por vector para calcular cada paso, ahora deberemos resolver un sistema cada vez.\n",
    "\n",
    "Este simple cambio nos da un método que es estable en cualquier partición que tomemos.\n",
    "\n",
    "$$ u_{j+1} = u_j + kLu_{j+1} $$\n",
    "\n",
    "## Método\n",
    "$$ u_{j+1} = (I-kL)^{-1} u_j $$\n"
   ]
  },
  {
   "cell_type": "code",
   "execution_count": 15,
   "metadata": {
    "id": "FbmkbpcD4ZlS"
   },
   "outputs": [],
   "source": [
    "def EulerImplicit(f, Np, Mp, t0=0.0, tn=1.0, x0=-1.0, xn=1.0):\n",
    "  N=Np\n",
    "  M=Mp\n",
    "\n",
    "  a=t0\n",
    "  L=tn\n",
    "  k = (L-a)/N\n",
    "\n",
    "  h = (xn - x0)/M\n",
    "\n",
    "  nodost = [a+k*i for i in np.arange(N+1)]\n",
    "  nodosx = [x0+h*i for i in np.arange(M+1)]\n",
    "\n",
    "  inicial = np.array([f(x) for x in nodosx])\n",
    "\n",
    "  diagonals = [-2*np.ones(M+1), np.ones(M), np.ones(M)]\n",
    "  mat = np.identity(M+1) - (k/h**2)*diags(diagonals, (0, 1, -1)).toarray()\n",
    "\n",
    "  mat[0, 0]=1\n",
    "  mat[0, 1]=0\n",
    "  mat[M, M-1]=0\n",
    "  mat[M, M]=1\n",
    "\n",
    "  result=[inicial]\n",
    "  for i in np.arange(1, N+1):\n",
    "    result.append(np.linalg.inv(mat)@result[i-1])\n",
    "\n",
    "\n",
    "  return nodost, nodosx, result"
   ]
  },
  {
   "cell_type": "code",
   "execution_count": 16,
   "metadata": {
    "id": "dEgD56oE5a2r"
   },
   "outputs": [],
   "source": [
    "tgridi, xgridi, resultadoi = EulerImplicit(sin2pix, 20, 10, x0=0) \n",
    "tgrid, xgrid, resultado = EulerImplicit(sin2pix, 300, 10, x0=0) "
   ]
  },
  {
   "attachments": {},
   "cell_type": "markdown",
   "metadata": {
    "id": "nP6SjPACWg6V"
   },
   "source": [
    "Esta simulación, con el método explícito era inestable, ahora es totalmente estable."
   ]
  },
  {
   "cell_type": "code",
   "execution_count": null,
   "metadata": {
    "colab": {
     "base_uri": "https://localhost:8080/",
     "height": 1000
    },
    "id": "g3l9cO085n0A",
    "outputId": "c0496491-2974-4cfd-d495-abfc34143634"
   },
   "outputs": [],
   "source": [
    "plotAnimation(tgridi, xgridi, resultadoi)"
   ]
  },
  {
   "attachments": {},
   "cell_type": "markdown",
   "metadata": {
    "id": "nhPvCYMp8FgN"
   },
   "source": [
    "## Esquemas de tipo Crank Nicholson\n",
    "\n",
    "Vamos a implementar ahora otro método que puede considerarse la media de los otros métodos porque utiliza discretización en diferencias centradas, sin embargo continua siendo implícito y tiene unas condiciones de estabilidad bastante razonables.\n",
    "\n",
    "## Método\n",
    "\n",
    "$$ u_{j+1} = u_j + \\frac{k}{2}(Lu_j + Lu_{j+1}) $$\n",
    "$$ u_{j+1} = (I-\\frac{k}{2}L)^{-1} (I+\\frac{k}{2}L) u_j $$"
   ]
  },
  {
   "cell_type": "code",
   "execution_count": 19,
   "metadata": {
    "id": "1f3KbGsw8T3A"
   },
   "outputs": [],
   "source": [
    "def CrankNicholson(f, Np, Mp, t0=0.0, tn=1.0, x0=-1.0, xn=1.0):\n",
    "  N=Np\n",
    "  M=Mp\n",
    "\n",
    "  a=t0\n",
    "  L=tn\n",
    "  k = (L-a)/N\n",
    "\n",
    "  h = (xn - x0)/M\n",
    "\n",
    "  nodost = [a+k*i for i in np.arange(N+1)]\n",
    "  nodosx = [x0+h*i for i in np.arange(M+1)]\n",
    "\n",
    "  inicial = np.array([f(x) for x in nodosx])\n",
    "\n",
    "  diagonals = [-2*np.ones(M+1), np.ones(M), np.ones(M)]\n",
    "  mat = (k/(2*h**2))*diags(diagonals, (0, 1, -1)).toarray()\n",
    "\n",
    "  mat[0, 0]=1\n",
    "  mat[0, 1]=0\n",
    "  mat[M, M-1]=0\n",
    "  mat[M, M]=1\n",
    "\n",
    "  result=[inicial]\n",
    "  for i in np.arange(1, N+1):\n",
    "    result.append(np.linalg.inv(np.identity(M+1) - mat) @ (np.identity(M+1) + mat) @ result[i-1])\n",
    "\n",
    "\n",
    "  return nodost, nodosx, result"
   ]
  },
  {
   "attachments": {},
   "cell_type": "markdown",
   "metadata": {
    "id": "gO-LFhTjJmpj"
   },
   "source": [
    "## Ecuación de advección\n",
    "\n",
    "$$ \\partial_tu = \\partial_xu$$\n",
    "$$ u(0,x)=u_0(x) $$\n",
    "\n",
    "con condiciones periódicas:\n",
    "$$ u(t,0) = u(t,1)$$"
   ]
  },
  {
   "attachments": {},
   "cell_type": "markdown",
   "metadata": {
    "id": "riQiYoj9T1Fn"
   },
   "source": [
    "## Euler explicito upwind : Estable si k menor o igual que h\n",
    "\n",
    "$u_{j+1} = u_j + \\frac{k}{h}Lu_j$ pero en este caso L tiene -1 en la diagonal, 1 en la adyacente superior y un 1 aislado en la esquina inferior izquierda como condición periódica.\n"
   ]
  },
  {
   "cell_type": "code",
   "execution_count": 23,
   "metadata": {
    "id": "_1WIeqg7Jpsi"
   },
   "outputs": [],
   "source": [
    "def EulerExplicitAdvection(f, Np, Mp, t0=0.0, tn=10.0, x0=-1.0, xn=1.0):\n",
    "  N=Np\n",
    "  M=Mp\n",
    "\n",
    "  a=t0\n",
    "  L=tn\n",
    "  k = (L-a)/N\n",
    "\n",
    "  h = (xn - x0)/M\n",
    "\n",
    "  nodost = [a+k*i for i in np.arange(N+1)]\n",
    "  nodosx = [x0+h*i for i in np.arange(M+1)]\n",
    "\n",
    "  inicial = np.array([f(x) for x in nodosx])\n",
    "\n",
    "  diagonals = [-1*np.ones(M+1), np.ones(M), -1*np.zeros(M)]\n",
    "  mat = (k/(h))*diags(diagonals, (0, 1, -1)).toarray() + np.identity(M+1)\n",
    "\n",
    "  #mat[0, M]=1\n",
    "  mat[M, 0]=k/h\n",
    "  #print(mat)\n",
    "  result=[inicial]\n",
    "  for i in np.arange(1, N+1):\n",
    "    result.append(mat@result[i-1])\n",
    "\n",
    "\n",
    "  return nodost, nodosx, result"
   ]
  },
  {
   "cell_type": "code",
   "execution_count": null,
   "metadata": {
    "id": "iTWKA14JK1s9"
   },
   "outputs": [],
   "source": [
    "def cos2pix(x):\n",
    "  return np.cos(2*np.pi*x)"
   ]
  },
  {
   "cell_type": "code",
   "execution_count": null,
   "metadata": {
    "colab": {
     "background_save": true,
     "base_uri": "https://localhost:8080/",
     "height": 1000
    },
    "id": "nq4oLk1ybJMN",
    "outputId": "8324dd43-27e5-467f-ba65-707921e18889"
   },
   "outputs": [],
   "source": [
    "tgridi, xgridi, resultadoi = EulerExplicitAdvection(cos2pix, 1000, 100, x0=0, xn=1) \n",
    "plotAnimation(tgridi, xgridi, resultadoi)"
   ]
  },
  {
   "attachments": {},
   "cell_type": "markdown",
   "metadata": {
    "id": "A9BYTFLte8hT"
   },
   "source": [
    "## Lax Wendroff\n",
    "\n",
    "$$ u_{j+1, n} = u_{jn} + \\frac{k}{2h} (u_{j,n+1}-u_{j,n-1}) + \\frac{k^2}{2h^2} (u_{j,n-1}-u_{jn}+u_{j,n-1}) $$"
   ]
  },
  {
   "cell_type": "code",
   "execution_count": 29,
   "metadata": {
    "id": "rVjXc_ANe9JT"
   },
   "outputs": [],
   "source": [
    "def LaxWendroffAdvection(f, Np, Mp, t0=0.0, tn=10.0, x0=-1.0, xn=1.0):\n",
    "  N=Np\n",
    "  M=Mp\n",
    "\n",
    "  a=t0\n",
    "  L=tn\n",
    "  k = (L-a)/N\n",
    "\n",
    "  h = (xn - x0)/M\n",
    "\n",
    "  nodost = [a+k*i for i in np.arange(N+1)]\n",
    "  nodosx = [x0+h*i for i in np.arange(M+1)]\n",
    "\n",
    "  inicial = np.array([f(x) for x in nodosx])\n",
    "\n",
    "  diagonals1 = [0*np.ones(M+1), np.ones(M), -1*np.ones(M)]\n",
    "  diagonals2 = [-2*np.ones(M+1), np.ones(M), np.ones(M)]\n",
    "\n",
    "  mat1 = (k/(2*h))*diags(diagonals1, (0, 1, -1)).toarray()\n",
    "\n",
    "  mat2 = (k**2/(2*h**2))*diags(diagonals2, (0, 1, -1)).toarray()\n",
    "\n",
    "  mat1[0, M]=(k/(2*h))\n",
    "  mat2[0, M]=(k**2/(2*h**2))\n",
    "  mat2[M, 0]=(k**2/(2*h**2))\n",
    "  \n",
    "  result=[inicial]\n",
    "  for i in np.arange(1, N+1):\n",
    "    result.append(result[i-1] + mat1@result[i-1] + mat2@result[i-1])\n",
    "\n",
    "\n",
    "  return nodost, nodosx, result"
   ]
  }
 ],
 "metadata": {
  "colab": {
   "provenance": []
  },
  "kernelspec": {
   "display_name": "Python 3 (ipykernel)",
   "language": "python",
   "name": "python3"
  },
  "language_info": {
   "codemirror_mode": {
    "name": "ipython",
    "version": 3
   },
   "file_extension": ".py",
   "mimetype": "text/x-python",
   "name": "python",
   "nbconvert_exporter": "python",
   "pygments_lexer": "ipython3",
   "version": "3.9.7"
  }
 },
 "nbformat": 4,
 "nbformat_minor": 1
}
